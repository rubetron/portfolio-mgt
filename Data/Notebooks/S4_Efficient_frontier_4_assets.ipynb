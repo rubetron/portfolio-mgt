{
 "cells": [
  {
   "cell_type": "code",
   "execution_count": 1,
   "id": "aeeb9a8a-138e-44b9-8cab-b6f3d380f484",
   "metadata": {},
   "outputs": [
    {
     "data": {
      "text/html": [
       "<div>\n",
       "<style scoped>\n",
       "    .dataframe tbody tr th:only-of-type {\n",
       "        vertical-align: middle;\n",
       "    }\n",
       "\n",
       "    .dataframe tbody tr th {\n",
       "        vertical-align: top;\n",
       "    }\n",
       "\n",
       "    .dataframe thead th {\n",
       "        text-align: right;\n",
       "    }\n",
       "</style>\n",
       "<table border=\"1\" class=\"dataframe\">\n",
       "  <thead>\n",
       "    <tr style=\"text-align: right;\">\n",
       "      <th></th>\n",
       "      <th>Asset1</th>\n",
       "      <th>Asset2</th>\n",
       "      <th>Asset3</th>\n",
       "      <th>Asset4</th>\n",
       "    </tr>\n",
       "  </thead>\n",
       "  <tbody>\n",
       "    <tr>\n",
       "      <th>Asset1</th>\n",
       "      <td>0.0225</td>\n",
       "      <td>0.003</td>\n",
       "      <td>0.0150</td>\n",
       "      <td>0.0225</td>\n",
       "    </tr>\n",
       "    <tr>\n",
       "      <th>Asset2</th>\n",
       "      <td>0.0030</td>\n",
       "      <td>0.040</td>\n",
       "      <td>0.0350</td>\n",
       "      <td>0.0240</td>\n",
       "    </tr>\n",
       "    <tr>\n",
       "      <th>Asset3</th>\n",
       "      <td>0.0150</td>\n",
       "      <td>0.035</td>\n",
       "      <td>0.0625</td>\n",
       "      <td>0.0600</td>\n",
       "    </tr>\n",
       "    <tr>\n",
       "      <th>Asset4</th>\n",
       "      <td>0.0225</td>\n",
       "      <td>0.024</td>\n",
       "      <td>0.0600</td>\n",
       "      <td>0.0900</td>\n",
       "    </tr>\n",
       "  </tbody>\n",
       "</table>\n",
       "</div>"
      ],
      "text/plain": [
       "        Asset1  Asset2  Asset3  Asset4\n",
       "Asset1  0.0225   0.003  0.0150  0.0225\n",
       "Asset2  0.0030   0.040  0.0350  0.0240\n",
       "Asset3  0.0150   0.035  0.0625  0.0600\n",
       "Asset4  0.0225   0.024  0.0600  0.0900"
      ]
     },
     "execution_count": 1,
     "metadata": {},
     "output_type": "execute_result"
    }
   ],
   "source": [
    "from IPython.core.interactiveshell import InteractiveShell\n",
    "InteractiveShell.ast_node_interactivity = \"all\"\n",
    "\n",
    "import pandas as pd\n",
    "import numpy as np\n",
    "\n",
    "# Input data from Example 3 of Session 3\n",
    "names = ['Asset1', 'Asset2', 'Asset3', 'Asset4']\n",
    "exp_rets = pd.Series([0.05, 0.06, 0.08, 0.06], index = names)\n",
    "vols = pd.Series([0.15, 0.20, 0.25, 0.30], index = names)\n",
    "corr_mat =  np.array([\n",
    "                     [1.0, 0.1, 0.4, 0.5],\n",
    "                     [0.1, 1.0, 0.7, 0.4],\n",
    "                     [0.4, 0.7, 1.0, 0.8],\n",
    "                     [0.5, 0.4, 0.8, 1.0]\n",
    "                    ])\n",
    "corr_mat = pd.DataFrame(corr_mat, index = names, columns = names)\n",
    "\n",
    "# different ways to get the covariance matrix from the correlations\n",
    "\n",
    "# First approach: multiply the correlation matrix by the outer product of the volatilities\n",
    "# the command np.outer(vols, vols) outputs a matrix with all cross-products of the volatilities\n",
    "cov_mat = corr_mat * np.outer(vols, vols)\n",
    "cov_mat\n",
    "\n",
    "# Second approach: create a diagonal matrix D with the volatilities and then compute D * corr_mat * D\n",
    "D = np.diag(vols)\n",
    "cov_mat2 = D @ corr_mat.values @ D\n",
    "cov_mat2 = pd.DataFrame(cov_mat2, index = names, columns = names)\n",
    "cov_mat2"
   ]
  },
  {
   "cell_type": "code",
   "execution_count": 2,
   "id": "0f5df4b0-8843-478c-83f6-b96a67b0faad",
   "metadata": {},
   "outputs": [
    {
     "data": {
      "text/plain": [
       "OrderedDict([('Asset1', 0.6548672566371682),\n",
       "             ('Asset2', 0.3451327433628318),\n",
       "             ('Asset3', 0.0),\n",
       "             ('Asset4', 0.0)])"
      ]
     },
     "execution_count": 2,
     "metadata": {},
     "output_type": "execute_result"
    },
    {
     "data": {
      "text/plain": [
       "array([0.65486726, 0.34513274, 0.        , 0.        ])"
      ]
     },
     "execution_count": 2,
     "metadata": {},
     "output_type": "execute_result"
    },
    {
     "data": {
      "text/plain": [
       "OrderedDict([('Asset1', 0.65487),\n",
       "             ('Asset2', 0.34513),\n",
       "             ('Asset3', 0.0),\n",
       "             ('Asset4', 0.0)])"
      ]
     },
     "execution_count": 2,
     "metadata": {},
     "output_type": "execute_result"
    },
    {
     "data": {
      "text/plain": [
       "Asset1    0.65487\n",
       "Asset2    0.34513\n",
       "Asset3    0.00000\n",
       "Asset4    0.00000\n",
       "dtype: float64"
      ]
     },
     "execution_count": 2,
     "metadata": {},
     "output_type": "execute_result"
    },
    {
     "name": "stdout",
     "output_type": "stream",
     "text": [
      "The expected return of the MVP without short sales is 0.0534513\n",
      "The volatility of the MVP without short sales is 0.12557830825763658\n"
     ]
    },
    {
     "data": {
      "text/plain": [
       "OrderedDict([('Asset1', 0.7274245164881036),\n",
       "             ('Asset2', 0.4946431056073464),\n",
       "             ('Asset3', -0.2045359677194933),\n",
       "             ('Asset4', -0.0175316543759567)])"
      ]
     },
     "execution_count": 2,
     "metadata": {},
     "output_type": "execute_result"
    },
    {
     "data": {
      "text/plain": [
       "Asset1    0.72742\n",
       "Asset2    0.49464\n",
       "Asset3   -0.20454\n",
       "Asset4   -0.01753\n",
       "dtype: float64"
      ]
     },
     "execution_count": 2,
     "metadata": {},
     "output_type": "execute_result"
    },
    {
     "data": {
      "text/html": [
       "<div>\n",
       "<style scoped>\n",
       "    .dataframe tbody tr th:only-of-type {\n",
       "        vertical-align: middle;\n",
       "    }\n",
       "\n",
       "    .dataframe tbody tr th {\n",
       "        vertical-align: top;\n",
       "    }\n",
       "\n",
       "    .dataframe thead th {\n",
       "        text-align: right;\n",
       "    }\n",
       "</style>\n",
       "<table border=\"1\" class=\"dataframe\">\n",
       "  <thead>\n",
       "    <tr style=\"text-align: right;\">\n",
       "      <th></th>\n",
       "      <th>Exp.Ret</th>\n",
       "      <th>Vol</th>\n",
       "      <th>SR</th>\n",
       "    </tr>\n",
       "  </thead>\n",
       "  <tbody>\n",
       "    <tr>\n",
       "      <th>MVP (no short sales)</th>\n",
       "      <td>0.053451</td>\n",
       "      <td>0.125578</td>\n",
       "      <td>0.425641</td>\n",
       "    </tr>\n",
       "    <tr>\n",
       "      <th>MVP (short sales)</th>\n",
       "      <td>0.048634</td>\n",
       "      <td>0.119951</td>\n",
       "      <td>0.405453</td>\n",
       "    </tr>\n",
       "  </tbody>\n",
       "</table>\n",
       "</div>"
      ],
      "text/plain": [
       "                       Exp.Ret       Vol        SR\n",
       "MVP (no short sales)  0.053451  0.125578  0.425641\n",
       "MVP (short sales)     0.048634  0.119951  0.405453"
      ]
     },
     "execution_count": 2,
     "metadata": {},
     "output_type": "execute_result"
    }
   ],
   "source": [
    "from pypfopt import EfficientFrontier\n",
    "from pypfopt import base_optimizer\n",
    "\n",
    "# Example of calculation of MVP\n",
    "\n",
    "# notice we provide 'None' for the expected returns, since MVP doesn't require it\n",
    "ef = EfficientFrontier(None, cov_mat)\n",
    "\n",
    "# The method below does the calculation of the MVP. By default it's assuming full\n",
    "# investment as well as positive weights\n",
    "ef.min_volatility()\n",
    "\n",
    "# The portfolio weights can be obtained as such:\n",
    "ef.weights\n",
    "\n",
    "# Alternatively, the command below cleans it up a bit but returns an object of type OrderedDict\n",
    "weights = ef.clean_weights()\n",
    "weights\n",
    "\n",
    "# You could also turn this into a pandas Series or numpy array\n",
    "weights = pd.Series(weights)\n",
    "weights\n",
    "\n",
    "# calculating the performance of this portfolio. \n",
    "mvp_exp_ret = np.inner(exp_rets, weights)\n",
    "mvp_vol = np.sqrt(weights @ cov_mat @ weights.T)\n",
    "print(f'The expected return of the MVP without short sales is {mvp_exp_ret}')\n",
    "print(f'The volatility of the MVP without short sales is {mvp_vol}')\n",
    "\n",
    "# Alternatively, you can use the function portfolio_performance. The outputs are: expected return, volatility, Sharpe ratio\n",
    "mvp_perf = base_optimizer.portfolio_performance(weights, exp_rets, cov_mat, risk_free_rate=0.0)\n",
    "\n",
    "# Allowing short sales\n",
    "ef_long_short = EfficientFrontier(None, cov_mat, weight_bounds=(-1, 1))\n",
    "ef_long_short.min_volatility()\n",
    "weights_long_short = ef_long_short.clean_weights()\n",
    "weights_long_short = pd.Series(weights_long_short)\n",
    "weights_long_short\n",
    "\n",
    "mvp_long_short_perf = base_optimizer.portfolio_performance(weights_long_short, exp_rets, cov_mat, risk_free_rate=0.0)\n",
    "\n",
    "# show performance in a more readable format\n",
    "pd.DataFrame([mvp_perf, mvp_long_short_perf], index = ['MVP (no short sales)', 'MVP (short sales)'], columns = ['Exp.Ret', 'Vol', 'SR'])"
   ]
  },
  {
   "cell_type": "code",
   "execution_count": 3,
   "id": "565b052b-f926-4ed3-baba-7ff402334949",
   "metadata": {},
   "outputs": [
    {
     "data": {
      "text/plain": [
       "<Axes: xlabel='Volatility', ylabel='Return'>"
      ]
     },
     "execution_count": 3,
     "metadata": {},
     "output_type": "execute_result"
    },
    {
     "data": {
      "image/png": "[encoded data removed]",
      "text/plain": [
       "<Figure size 640x480 with 1 Axes>"
      ]
     },
     "metadata": {},
     "output_type": "display_data"
    }
   ],
   "source": [
    "# Example - generating and plotting the efficient frontier\n",
    "from pypfopt import plotting\n",
    "import matplotlib.pyplot as plt\n",
    "ef = EfficientFrontier(exp_rets, cov_mat)\n",
    "fig, ax = plt.subplots()\n",
    "plotting.plot_efficient_frontier(ef, ax=ax, show_assets=True, show_tickers=True)\n",
    "plt.show()\n",
    "\n",
    "# Obs: if you get an error message \"OSError: 'seaborn-deep' is not a valid package style...\", find the file plotting.py in the pypfopt folder\n",
    "# and replace the line plt.style.use(\"seaborn-deep\") with plt.style.use(\"classic\")"
   ]
  },
  {
   "cell_type": "code",
   "execution_count": 4,
   "id": "3af60539-7fdc-4799-a294-677d6fe80776",
   "metadata": {},
   "outputs": [],
   "source": [
    "InteractiveShell.ast_node_interactivity = \"last\""
   ]
  },
  {
   "cell_type": "code",
   "execution_count": 5,
   "id": "0a3ac874-2c80-411a-8681-467389aec304",
   "metadata": {},
   "outputs": [
    {
     "data": {
      "text/plain": [
       "Text(0.155, 0.05, 'Asset1')"
      ]
     },
     "execution_count": 5,
     "metadata": {},
     "output_type": "execute_result"
    },
    {
     "data": {
      "text/plain": [
       "Text(0.20500000000000002, 0.06, 'Asset2')"
      ]
     },
     "execution_count": 5,
     "metadata": {},
     "output_type": "execute_result"
    },
    {
     "data": {
      "text/plain": [
       "Text(0.255, 0.08, 'Asset3')"
      ]
     },
     "execution_count": 5,
     "metadata": {},
     "output_type": "execute_result"
    },
    {
     "data": {
      "text/plain": [
       "Text(0.305, 0.06, 'Asset4')"
      ]
     },
     "execution_count": 5,
     "metadata": {},
     "output_type": "execute_result"
    },
    {
     "data": {
      "image/png": "[encoded data removed]",
      "text/plain": [
       "<Figure size 640x480 with 1 Axes>"
      ]
     },
     "metadata": {},
     "output_type": "display_data"
    }
   ],
   "source": [
    "\n",
    "\n",
    "# Alternatively, we can reconstruct the frontier from the object ef by generating each efficient portfolio and storing the data\n",
    "\n",
    "# first get the grid of expected returns used in the optimizations. \n",
    "# first set the number of portfolios\n",
    "n_ports = 20 \n",
    "ef = EfficientFrontier(exp_rets, cov_mat)\n",
    "mu_grid = plotting._ef_default_returns_range(ef, n_ports)\n",
    "\n",
    "# initialize mus and vols\n",
    "ef_mu, ef_vols = [], []\n",
    "\n",
    "# cycle through expected returns in the grid and get efficient portfolio performance\n",
    "for mu_i in mu_grid:\n",
    "    ef.efficient_return(mu_i)\n",
    "    ret, sigma, _ = ef.portfolio_performance()\n",
    "    ef_mu.append(ret)\n",
    "    ef_vols.append(sigma)\n",
    "\n",
    "fig = plt.figure()\n",
    "ax = fig.add_subplot()\n",
    "ax.plot(ef_vols, ef_mu, label = 'Efficient frontier')\n",
    "ax.scatter(vols, exp_rets, s=30, color = \"k\")\n",
    "\n",
    "for i, label in enumerate(names):\n",
    "    ax.annotate(label, (vols.iloc[i]+.005, exp_rets.iloc[i]))\n",
    "\n"
   ]
  },
  {
   "cell_type": "code",
   "execution_count": null,
   "id": "36c5c1dd-ae44-4f7a-bbf9-ead02c68e868",
   "metadata": {},
   "outputs": [],
   "source": []
  }
 ],
 "metadata": {
  "kernelspec": {
   "display_name": "Python 3 (ipykernel)",
   "language": "python",
   "name": "python3"
  },
  "language_info": {
   "codemirror_mode": {
    "name": "ipython",
    "version": 3
   },
   "file_extension": ".py",
   "mimetype": "text/x-python",
   "name": "python",
   "nbconvert_exporter": "python",
   "pygments_lexer": "ipython3",
   "version": "3.12.3"
  }
 },
 "nbformat": 4,
 "nbformat_minor": 5
}
